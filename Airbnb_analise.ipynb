{
 "cells": [
  {
   "cell_type": "markdown",
   "id": "00153037-4838-4fc7-8ebc-7f1033bff6af",
   "metadata": {},
   "source": [
    "# **0.0 Import**"
   ]
  },
  {
   "cell_type": "code",
   "execution_count": null,
   "id": "f6fb96b3-a25a-480f-97f2-d8d1081d5c2e",
   "metadata": {},
   "outputs": [],
   "source": [
    "#conda --version"
   ]
  },
  {
   "cell_type": "code",
   "execution_count": null,
   "id": "b1a4ed02-239b-4386-beae-4540631aeb36",
   "metadata": {},
   "outputs": [],
   "source": [
    "## Observação: estava dando erro depois que atualizei o conda version - o problema era a versão do pillow coloquei 9.3.0 e funcionou\n",
    "\n",
    "#import PIL\n",
    "#print(PIL.__version__)\n"
   ]
  },
  {
   "cell_type": "code",
   "execution_count": null,
   "id": "7a96493f-3273-48ad-99d8-530c809cb91a",
   "metadata": {},
   "outputs": [],
   "source": [
    "#!pip install scipy"
   ]
  },
  {
   "cell_type": "code",
   "execution_count": 1,
   "id": "1a82b3c5-c04d-4702-8ad8-c94f62602172",
   "metadata": {},
   "outputs": [],
   "source": [
    "import PIL\n",
    "import warnings\n",
    "import inflection\n",
    "\n",
    "import pandas              as pd\n",
    "import numpy               as np\n",
    "\n",
    "import seaborn             as sns\n",
    "from matplotlib                     import pyplot             as plt\n",
    "\n",
    "from tabulate                       import tabulate\n",
    "from IPython.core.display           import HTML\n",
    "from IPython.display                import Image"
   ]
  },
  {
   "cell_type": "markdown",
   "id": "a2d210b4-c87e-4e85-aecf-23ff522d4ffc",
   "metadata": {},
   "source": [
    "## **0.1 Helper Functions**"
   ]
  },
  {
   "cell_type": "code",
   "execution_count": 2,
   "id": "fcf49658-7f46-4b05-b5b4-fc3e5a485558",
   "metadata": {},
   "outputs": [
    {
     "name": "stdout",
     "output_type": "stream",
     "text": [
      "%pylab is deprecated, use %matplotlib inline and import the required libraries.\n",
      "Populating the interactive namespace from numpy and matplotlib\n"
     ]
    },
    {
     "data": {
      "text/html": [
       "<style>.container { width:100% !important; }</style>"
      ],
      "text/plain": [
       "<IPython.core.display.HTML object>"
      ]
     },
     "metadata": {},
     "output_type": "display_data"
    }
   ],
   "source": [
    "#Configuração gerais\n",
    "def jupyter_settings():\n",
    "    %matplotlib inline\n",
    "    %pylab inline\n",
    "    \n",
    "    plt.style.use( 'bmh' )\n",
    "    plt.rcParams['figure.figsize'] = [25, 12]\n",
    "    plt.rcParams['font.size'] = 24\n",
    "    \n",
    "    display( HTML( '<style>.container { width:100% !important; }</style>') )\n",
    "    pd.options.display.max_columns = None\n",
    "    pd.options.display.max_rows = None\n",
    "    pd.set_option( 'display.expand_frame_repr', False )\n",
    "    \n",
    "    sns.set()\n",
    "jupyter_settings()\n",
    "\n",
    "\n",
    "# Transforma colunas em snakecase\n",
    "def convert_to_snake_case(df):\n",
    "    cols_old = df.columns.tolist()\n",
    "    snakecase = lambda x: inflection.underscore(x)\n",
    "    cols_new = list(map(snakecase, cols_old))\n",
    "    df.columns = cols_new\n",
    "    return df\n",
    "\n",
    "\n",
    "#Estatística descritiva - medidas central.\n",
    "def descriptive_statistics(df1_num):\n",
    "    \n",
    "    # Central Tendency - mean, meadina\n",
    "    ct1= pd.DataFrame(df1_num.apply(np.mean)).T\n",
    "    ct2= pd.DataFrame(df1_num.apply(np.median)).T\n",
    "\n",
    "    # dispersion - std, min, max, range, skew, kurtosis\n",
    "    ct3= pd.DataFrame(df1_num.apply(np.std)).T\n",
    "    ct4= pd.DataFrame(df1_num.apply(min)).T\n",
    "    ct5= pd.DataFrame(df1_num.apply(max)).T\n",
    "    ct6= pd.DataFrame(df1_num.apply(lambda x: x.max() - x.min())).T\n",
    "    ct7= pd.DataFrame(df1_num.apply(lambda x: x.skew())).T\n",
    "    ct8= pd.DataFrame(df1_num.apply(lambda x: x.kurtosis())).T\n",
    "    #ct9 = pd.DataFrame(df1_num.apply(lambda x: 'not normal' if shapiro(x.sample(5000))[1] < 0.05 else 'normal')).T\n",
    "\n",
    "    # concatenar\n",
    "    df_statistics= pd.concat([ct4, ct5, ct6, ct1, ct2,ct3, ct7, ct8]).T\n",
    "    df_statistics.columns=['min', 'max', 'range', 'mean', 'median', 'std', 'skew', 'kurtosis']\n",
    "    df_statistics.round(2)\n",
    "\n",
    "    return df_statistics\n",
    "\n",
    "\n",
    "#Gráfico de correlação \n",
    "def plot_corr(col):\n",
    "    a = correlation[col].sort_values(ascending=False).to_frame()\n",
    "    a.columns = ['']\n",
    "    a.drop(col, axis=0, inplace=True)\n",
    "    plot = sns.heatmap( a, annot=True, cmap=\"Blue\").set_title(col);\n",
    "    \n",
    "    return plot\n",
    "\n",
    "\n",
    "#Correlação variáveis categóricas\n",
    "def cramer_v(x, y):\n",
    "    # cramer V function to calculate correlation btw categorical variables\n",
    "    cm = pd.crosstab(x, y).values\n",
    "    n = cm.sum()\n",
    "    r, k = cm.shape\n",
    "    \n",
    "    chi2 = chi2_contingency(cm)[0]\n",
    "    \n",
    "    chi2corr = max(0, chi2 - (k-1)*(r-1)/(n-1))\n",
    "    kcorr = k - (k-1)**2/(n-1)\n",
    "    rcorr = r - (r-1)**2/(n-1)\n",
    "    \n",
    "    return np.sqrt((chi2corr/n) / (min(kcorr-1, rcorr-1)))\n",
    "\n",
    "\n",
    "warnings.filterwarnings (\"ignore\")\n"
   ]
  },
  {
   "cell_type": "markdown",
   "id": "17174f8b-122f-4e54-84b7-33fd6439dd7d",
   "metadata": {},
   "source": [
    "## **0.2 Loading Data**"
   ]
  },
  {
   "cell_type": "code",
   "execution_count": 3,
   "id": "bca9d182-bb91-4756-9ed0-4c235e409a67",
   "metadata": {},
   "outputs": [],
   "source": [
    "df_raw_A24 = pd.read_csv(\"Data/airbnb_01_2024-12_2024.csv\", low_memory = False)\n",
    "df_raw_A23 = pd.read_csv(\"Data/airbnb_01_2023-12_2023.csv\",low_memory = False)\n",
    "df_raw_A22 = pd.read_csv(\"Data/airbnb_07_2022-12_2022.csv\",low_memory = False)"
   ]
  },
  {
   "cell_type": "code",
   "execution_count": 4,
   "id": "3cbf9c51-9a93-4c08-96c1-880ed1691664",
   "metadata": {},
   "outputs": [
    {
     "name": "stdout",
     "output_type": "stream",
     "text": [
      "Colunas diferentes entre os DataFrames: {'Taxa de serviço', 'Taxa de serviço do anfitrião'}\n"
     ]
    }
   ],
   "source": [
    "# Listar as colunas de cada DataFrame\n",
    "colunas_A24 = set(df_raw_A24.columns)\n",
    "colunas_A23 = set(df_raw_A23.columns)\n",
    "colunas_A22 = set(df_raw_A22.columns)\n",
    "\n",
    "# Identificar todas as colunas únicas (que existem em pelo menos um DataFrame)\n",
    "todas_colunas = colunas_A24 | colunas_A23 | colunas_A22\n",
    "\n",
    "# Identificar colunas comuns a todos os DataFrames\n",
    "comuns = colunas_A24 & colunas_A23 & colunas_A22\n",
    "\n",
    "# Identificar colunas diferentes (que não são comuns)\n",
    "diferentes = todas_colunas - comuns\n",
    "\n",
    "# Mostrar as colunas diferentes\n",
    "print(\"Colunas diferentes entre os DataFrames:\", diferentes)\n"
   ]
  },
  {
   "cell_type": "code",
   "execution_count": 5,
   "id": "fca04e0e-baf5-419c-932e-0b7e70ae14ba",
   "metadata": {},
   "outputs": [],
   "source": [
    "df_raw_A23.rename(columns={'Taxa de serviço do anfitrião': 'Taxa de serviço'}, inplace=True)\n",
    "df_raw_A22.rename(columns={'Taxa de serviço do anfitrião': 'Taxa de serviço'}, inplace=True)"
   ]
  },
  {
   "cell_type": "code",
   "execution_count": 6,
   "id": "f8284029-7566-442b-a431-f3fb2632582a",
   "metadata": {},
   "outputs": [
    {
     "data": {
      "text/plain": [
       "Index(['Data', 'Disponível por data', 'Tipo', 'Código de Confirmação',\n",
       "       'Data da reserva', 'Data de início', 'Data de término', 'Noites',\n",
       "       'Hóspede', 'Anúncio', 'Detalhes', 'Código de referência', 'Moeda',\n",
       "       'Valor', 'Pago', 'Taxa de serviço', 'Taxa de pagamento rápido',\n",
       "       'Taxa de limpeza', 'Ganhos brutos', 'Impostos de ocupação',\n",
       "       'Ganhos do ano'],\n",
       "      dtype='object')"
      ]
     },
     "execution_count": 6,
     "metadata": {},
     "output_type": "execute_result"
    }
   ],
   "source": [
    "#verificando se alterou o nome da coluna\n",
    "df_raw_A22.columns"
   ]
  },
  {
   "cell_type": "code",
   "execution_count": 7,
   "id": "af511a88-f92e-476b-b921-5f70cc6da1ab",
   "metadata": {},
   "outputs": [],
   "source": [
    "df_raw = pd.concat([df_raw_A22, df_raw_A23, df_raw_A24], ignore_index=True)"
   ]
  },
  {
   "cell_type": "code",
   "execution_count": null,
   "id": "32e94440-1e68-4dd5-8d63-cc10e3cac4b2",
   "metadata": {},
   "outputs": [],
   "source": []
  },
  {
   "cell_type": "markdown",
   "id": "58206a9b-d196-462d-872a-2b16e218ea69",
   "metadata": {},
   "source": [
    "# **1.0 Data Description**"
   ]
  },
  {
   "cell_type": "code",
   "execution_count": 8,
   "id": "507973ec-41fa-444d-b89d-1374ee462a05",
   "metadata": {},
   "outputs": [],
   "source": [
    "df1 = df_raw.copy()"
   ]
  },
  {
   "cell_type": "markdown",
   "id": "82ed011d-0aea-47fe-bb9d-fc0b83e540a2",
   "metadata": {},
   "source": [
    "## **1.1 Rename Columns**"
   ]
  },
  {
   "cell_type": "code",
   "execution_count": 9,
   "id": "c9fb0866-5a46-4742-bcd6-554b1149be52",
   "metadata": {},
   "outputs": [
    {
     "data": {
      "text/plain": [
       "Index(['Data', 'Disponível por data', 'Tipo', 'Código de Confirmação',\n",
       "       'Data da reserva', 'Data de início', 'Data de término', 'Noites',\n",
       "       'Hóspede', 'Anúncio', 'Detalhes', 'Código de referência', 'Moeda',\n",
       "       'Valor', 'Pago', 'Taxa de serviço', 'Taxa de pagamento rápido',\n",
       "       'Taxa de limpeza', 'Ganhos brutos', 'Impostos de ocupação',\n",
       "       'Ganhos do ano'],\n",
       "      dtype='object')"
      ]
     },
     "execution_count": 9,
     "metadata": {},
     "output_type": "execute_result"
    }
   ],
   "source": [
    "df1.columns"
   ]
  },
  {
   "cell_type": "code",
   "execution_count": 10,
   "id": "8e11a237-7944-4ff4-a556-60e2bad8be0a",
   "metadata": {},
   "outputs": [],
   "source": [
    "df1 = convert_to_snake_case(df1)"
   ]
  },
  {
   "cell_type": "markdown",
   "id": "9f3f21dc-5e6a-4c4d-8733-54363c8b5e19",
   "metadata": {},
   "source": [
    "## **1.2 Data Dimensions**"
   ]
  },
  {
   "cell_type": "code",
   "execution_count": 11,
   "id": "2e2a18bd-0b99-4245-ba83-e6583e8330e9",
   "metadata": {},
   "outputs": [
    {
     "name": "stdout",
     "output_type": "stream",
     "text": [
      "Numero de linhas:184\n",
      "Numero de colunas:21\n"
     ]
    }
   ],
   "source": [
    "print(\"Numero de linhas:{}\".format(df1.shape[0]))\n",
    "print(\"Numero de colunas:{}\".format(df1.shape[1]))"
   ]
  },
  {
   "cell_type": "markdown",
   "id": "cf741d73-a2ff-4177-983c-729cf55b4409",
   "metadata": {},
   "source": [
    "## **1.3 Data Types**"
   ]
  },
  {
   "cell_type": "code",
   "execution_count": 12,
   "id": "e936c61f-9d04-4a3f-b417-2edc64bb722b",
   "metadata": {},
   "outputs": [
    {
     "data": {
      "text/plain": [
       "data                         object\n",
       "disponível por data          object\n",
       "tipo                         object\n",
       "código de confirmação        object\n",
       "data da reserva              object\n",
       "data de início               object\n",
       "data de término              object\n",
       "noites                      float64\n",
       "hóspede                      object\n",
       "anúncio                      object\n",
       "detalhes                     object\n",
       "código de referência         object\n",
       "moeda                        object\n",
       "valor                       float64\n",
       "pago                        float64\n",
       "taxa de serviço             float64\n",
       "taxa de pagamento rápido    float64\n",
       "taxa de limpeza             float64\n",
       "ganhos brutos               float64\n",
       "impostos de ocupação        float64\n",
       "ganhos do ano               float64\n",
       "dtype: object"
      ]
     },
     "execution_count": 12,
     "metadata": {},
     "output_type": "execute_result"
    }
   ],
   "source": [
    "df1.dtypes"
   ]
  },
  {
   "cell_type": "markdown",
   "id": "a69324f3-f393-4bd6-b9fb-6977bb244782",
   "metadata": {},
   "source": [
    "## **1.4 Check NA**"
   ]
  },
  {
   "cell_type": "code",
   "execution_count": 13,
   "id": "7c36ee4a-6a2b-4686-88ff-101c0944762c",
   "metadata": {},
   "outputs": [
    {
     "data": {
      "text/plain": [
       "data                          0.00\n",
       "disponível por data          50.54\n",
       "tipo                          0.00\n",
       "código de confirmação        49.46\n",
       "data da reserva              53.80\n",
       "data de início               50.54\n",
       "data de término              51.09\n",
       "noites                       51.09\n",
       "hóspede                      51.09\n",
       "anúncio                      51.09\n",
       "detalhes                     46.20\n",
       "código de referência         50.54\n",
       "moeda                         0.00\n",
       "valor                        49.46\n",
       "pago                         50.54\n",
       "taxa de serviço              53.80\n",
       "taxa de pagamento rápido    100.00\n",
       "taxa de limpeza              53.80\n",
       "ganhos brutos                49.46\n",
       "impostos de ocupação         53.80\n",
       "ganhos do ano                49.46\n",
       "dtype: float64"
      ]
     },
     "execution_count": 13,
     "metadata": {},
     "output_type": "execute_result"
    }
   ],
   "source": [
    "round((df1.isna().sum()/len(df1))*100, 2)"
   ]
  },
  {
   "cell_type": "markdown",
   "id": "af609d3a-064e-44f1-87b6-a92b39206fdb",
   "metadata": {},
   "source": [
    "## **1.5 Fillout NA**"
   ]
  },
  {
   "cell_type": "code",
   "execution_count": null,
   "id": "59536b49-6067-4150-80c8-fffda9153504",
   "metadata": {},
   "outputs": [],
   "source": []
  },
  {
   "cell_type": "markdown",
   "id": "c7b68dad-5dc3-4529-b9f8-deeb88813705",
   "metadata": {},
   "source": [
    "## **1.6 Change Types**"
   ]
  },
  {
   "cell_type": "code",
   "execution_count": 86,
   "id": "4a6f238d-4e25-4aee-a696-0ceac71df010",
   "metadata": {},
   "outputs": [],
   "source": [
    "df1.head()"
   ]
  },
  {
   "cell_type": "code",
   "execution_count": null,
   "id": "20371d5c-c40b-462e-914e-f0f2a7a505ec",
   "metadata": {},
   "outputs": [],
   "source": [
    "#data\n",
    "#df1['data'] = pd.to_datetime(df1['data'], errors='coerce')\n"
   ]
  },
  {
   "cell_type": "code",
   "execution_count": 15,
   "id": "eb1ac499-3f75-418f-a5e9-80ce6f36d7c5",
   "metadata": {},
   "outputs": [],
   "source": [
    "# Converter as colunas para datetime, ignorando erros em valores NaN\n",
    "for col in ['data','disponível por data', 'data da reserva', 'data de início', 'data de término', 'ganhos do ano']:\n",
    "    df1[col] = pd.to_datetime(df1[col], errors='coerce')\n",
    "    "
   ]
  },
  {
   "cell_type": "code",
   "execution_count": null,
   "id": "aa8e610f-0477-4a87-93a5-3fe1020b6660",
   "metadata": {},
   "outputs": [],
   "source": [
    "# Converte tipos para integer e float\n",
    "#df1['noites'] = pd.to_numeric(df1['noites'], errors='coerce').astype('Int64')\n"
   ]
  },
  {
   "cell_type": "code",
   "execution_count": 16,
   "id": "7ea69f09-9b95-45b5-9231-89be6646aad3",
   "metadata": {},
   "outputs": [
    {
     "data": {
      "text/plain": [
       "data                        datetime64[ns]\n",
       "disponível por data         datetime64[ns]\n",
       "tipo                                object\n",
       "código de confirmação               object\n",
       "data da reserva             datetime64[ns]\n",
       "data de início              datetime64[ns]\n",
       "data de término             datetime64[ns]\n",
       "noites                             float64\n",
       "hóspede                             object\n",
       "anúncio                             object\n",
       "detalhes                            object\n",
       "código de referência                object\n",
       "moeda                               object\n",
       "valor                              float64\n",
       "pago                               float64\n",
       "taxa de serviço                    float64\n",
       "taxa de pagamento rápido           float64\n",
       "taxa de limpeza                    float64\n",
       "ganhos brutos                      float64\n",
       "impostos de ocupação               float64\n",
       "ganhos do ano               datetime64[ns]\n",
       "dtype: object"
      ]
     },
     "execution_count": 16,
     "metadata": {},
     "output_type": "execute_result"
    }
   ],
   "source": [
    "df1.dtypes"
   ]
  },
  {
   "cell_type": "code",
   "execution_count": null,
   "id": "c24165dd-99b7-4738-9e1f-aed43221d612",
   "metadata": {},
   "outputs": [],
   "source": [
    "#def convert_date_format(df, columns):\n",
    "#    for column in columns:\n",
    "#        df[column] = pd.to_datetime(df[column])\n",
    "#        df[column] = df[column].dt.strftime('%d/%m/%Y')"
   ]
  },
  {
   "cell_type": "code",
   "execution_count": null,
   "id": "fea72d20-58e8-4591-a2b7-8bbd96cbfdd8",
   "metadata": {},
   "outputs": [],
   "source": [
    "# Especificar as colunas que precisam ser convertidas\n",
    "#date_columns = ['data', 'disponível por data', 'data da reserva', 'data de início', 'data de término']\n",
    "#convert_date_format(df1, date_columns)"
   ]
  },
  {
   "cell_type": "code",
   "execution_count": null,
   "id": "e2ceb3e8-2870-465c-8f29-6ed2810fba5d",
   "metadata": {},
   "outputs": [],
   "source": [
    "#de onde veio a função\n",
    "\n",
    "##data\n",
    "#df1_A22['data'] = pd.to_datetime(df1_A22['data'])\n",
    "## Convertendo para o formato de data do Brasil (DD/MM/YYYY)\n",
    "#df1_A22['data'] = df1_A22['data'].dt.strftime('%d/%m/%Y')\n"
   ]
  },
  {
   "cell_type": "markdown",
   "id": "acaa2ff8-ae53-493a-826d-9e8a817784a7",
   "metadata": {},
   "source": [
    "## **1.7 Descriptive Statistical**"
   ]
  },
  {
   "cell_type": "code",
   "execution_count": 17,
   "id": "ef3acc1f-1cc8-4644-9b0c-3cf84e94b9f5",
   "metadata": {},
   "outputs": [],
   "source": [
    "df1_num=df1.select_dtypes(include=['int64', 'float64'])\n",
    "df1_cat=df1.select_dtypes(exclude=['int64', 'float64', 'datetime'])"
   ]
  },
  {
   "cell_type": "markdown",
   "id": "52b3d938-9aa6-43cf-9488-3c6ad462b4c1",
   "metadata": {},
   "source": [
    "### **1.7.1 Numerical Attributes**"
   ]
  },
  {
   "cell_type": "code",
   "execution_count": 18,
   "id": "76d6e70c-496f-4d46-b1c5-05f3a8f06710",
   "metadata": {},
   "outputs": [
    {
     "data": {
      "text/html": [
       "<div>\n",
       "<style scoped>\n",
       "    .dataframe tbody tr th:only-of-type {\n",
       "        vertical-align: middle;\n",
       "    }\n",
       "\n",
       "    .dataframe tbody tr th {\n",
       "        vertical-align: top;\n",
       "    }\n",
       "\n",
       "    .dataframe thead th {\n",
       "        text-align: right;\n",
       "    }\n",
       "</style>\n",
       "<table border=\"1\" class=\"dataframe\">\n",
       "  <thead>\n",
       "    <tr style=\"text-align: right;\">\n",
       "      <th></th>\n",
       "      <th>noites</th>\n",
       "      <th>valor</th>\n",
       "      <th>pago</th>\n",
       "      <th>taxa de serviço</th>\n",
       "      <th>taxa de pagamento rápido</th>\n",
       "      <th>taxa de limpeza</th>\n",
       "      <th>ganhos brutos</th>\n",
       "      <th>impostos de ocupação</th>\n",
       "    </tr>\n",
       "  </thead>\n",
       "  <tbody>\n",
       "    <tr>\n",
       "      <th>count</th>\n",
       "      <td>90.000000</td>\n",
       "      <td>93.000000</td>\n",
       "      <td>91.000000</td>\n",
       "      <td>85.000000</td>\n",
       "      <td>0.0</td>\n",
       "      <td>85.000000</td>\n",
       "      <td>93.000000</td>\n",
       "      <td>85.0</td>\n",
       "    </tr>\n",
       "    <tr>\n",
       "      <th>mean</th>\n",
       "      <td>9.477778</td>\n",
       "      <td>1155.745484</td>\n",
       "      <td>1181.146484</td>\n",
       "      <td>38.238235</td>\n",
       "      <td>NaN</td>\n",
       "      <td>129.882353</td>\n",
       "      <td>1190.694409</td>\n",
       "      <td>0.0</td>\n",
       "    </tr>\n",
       "    <tr>\n",
       "      <th>std</th>\n",
       "      <td>16.656630</td>\n",
       "      <td>1048.182849</td>\n",
       "      <td>1044.094929</td>\n",
       "      <td>32.465200</td>\n",
       "      <td>NaN</td>\n",
       "      <td>48.216778</td>\n",
       "      <td>1080.502826</td>\n",
       "      <td>0.0</td>\n",
       "    </tr>\n",
       "    <tr>\n",
       "      <th>min</th>\n",
       "      <td>2.000000</td>\n",
       "      <td>-300.000000</td>\n",
       "      <td>58.750000</td>\n",
       "      <td>8.100000</td>\n",
       "      <td>NaN</td>\n",
       "      <td>0.000000</td>\n",
       "      <td>-300.000000</td>\n",
       "      <td>0.0</td>\n",
       "    </tr>\n",
       "    <tr>\n",
       "      <th>25%</th>\n",
       "      <td>3.000000</td>\n",
       "      <td>558.200000</td>\n",
       "      <td>561.595000</td>\n",
       "      <td>18.840000</td>\n",
       "      <td>NaN</td>\n",
       "      <td>125.000000</td>\n",
       "      <td>575.480000</td>\n",
       "      <td>0.0</td>\n",
       "    </tr>\n",
       "    <tr>\n",
       "      <th>50%</th>\n",
       "      <td>4.000000</td>\n",
       "      <td>833.430000</td>\n",
       "      <td>854.750000</td>\n",
       "      <td>26.940000</td>\n",
       "      <td>NaN</td>\n",
       "      <td>150.000000</td>\n",
       "      <td>859.230000</td>\n",
       "      <td>0.0</td>\n",
       "    </tr>\n",
       "    <tr>\n",
       "      <th>75%</th>\n",
       "      <td>7.750000</td>\n",
       "      <td>1444.060000</td>\n",
       "      <td>1447.890000</td>\n",
       "      <td>44.940000</td>\n",
       "      <td>NaN</td>\n",
       "      <td>150.000000</td>\n",
       "      <td>1488.760000</td>\n",
       "      <td>0.0</td>\n",
       "    </tr>\n",
       "    <tr>\n",
       "      <th>max</th>\n",
       "      <td>89.000000</td>\n",
       "      <td>5378.530000</td>\n",
       "      <td>5378.530000</td>\n",
       "      <td>166.500000</td>\n",
       "      <td>NaN</td>\n",
       "      <td>170.000000</td>\n",
       "      <td>5545.030000</td>\n",
       "      <td>0.0</td>\n",
       "    </tr>\n",
       "  </tbody>\n",
       "</table>\n",
       "</div>"
      ],
      "text/plain": [
       "          noites        valor         pago  taxa de serviço  taxa de pagamento rápido  taxa de limpeza  ganhos brutos  impostos de ocupação\n",
       "count  90.000000    93.000000    91.000000        85.000000                       0.0        85.000000      93.000000                  85.0\n",
       "mean    9.477778  1155.745484  1181.146484        38.238235                       NaN       129.882353    1190.694409                   0.0\n",
       "std    16.656630  1048.182849  1044.094929        32.465200                       NaN        48.216778    1080.502826                   0.0\n",
       "min     2.000000  -300.000000    58.750000         8.100000                       NaN         0.000000    -300.000000                   0.0\n",
       "25%     3.000000   558.200000   561.595000        18.840000                       NaN       125.000000     575.480000                   0.0\n",
       "50%     4.000000   833.430000   854.750000        26.940000                       NaN       150.000000     859.230000                   0.0\n",
       "75%     7.750000  1444.060000  1447.890000        44.940000                       NaN       150.000000    1488.760000                   0.0\n",
       "max    89.000000  5378.530000  5378.530000       166.500000                       NaN       170.000000    5545.030000                   0.0"
      ]
     },
     "execution_count": 18,
     "metadata": {},
     "output_type": "execute_result"
    }
   ],
   "source": [
    "df1_num.describe()"
   ]
  },
  {
   "cell_type": "code",
   "execution_count": 19,
   "id": "62a1cc13-03d0-460e-9574-61c24cb32c74",
   "metadata": {},
   "outputs": [
    {
     "data": {
      "text/html": [
       "<div>\n",
       "<style scoped>\n",
       "    .dataframe tbody tr th:only-of-type {\n",
       "        vertical-align: middle;\n",
       "    }\n",
       "\n",
       "    .dataframe tbody tr th {\n",
       "        vertical-align: top;\n",
       "    }\n",
       "\n",
       "    .dataframe thead th {\n",
       "        text-align: right;\n",
       "    }\n",
       "</style>\n",
       "<table border=\"1\" class=\"dataframe\">\n",
       "  <thead>\n",
       "    <tr style=\"text-align: right;\">\n",
       "      <th></th>\n",
       "      <th>min</th>\n",
       "      <th>max</th>\n",
       "      <th>range</th>\n",
       "      <th>mean</th>\n",
       "      <th>median</th>\n",
       "      <th>std</th>\n",
       "      <th>skew</th>\n",
       "      <th>kurtosis</th>\n",
       "    </tr>\n",
       "  </thead>\n",
       "  <tbody>\n",
       "    <tr>\n",
       "      <th>noites</th>\n",
       "      <td>NaN</td>\n",
       "      <td>NaN</td>\n",
       "      <td>87.00</td>\n",
       "      <td>9.477778</td>\n",
       "      <td>NaN</td>\n",
       "      <td>16.563835</td>\n",
       "      <td>3.889962</td>\n",
       "      <td>15.906845</td>\n",
       "    </tr>\n",
       "    <tr>\n",
       "      <th>valor</th>\n",
       "      <td>NaN</td>\n",
       "      <td>NaN</td>\n",
       "      <td>5678.53</td>\n",
       "      <td>1155.745484</td>\n",
       "      <td>NaN</td>\n",
       "      <td>1042.532227</td>\n",
       "      <td>2.255769</td>\n",
       "      <td>5.764158</td>\n",
       "    </tr>\n",
       "    <tr>\n",
       "      <th>pago</th>\n",
       "      <td>58.75</td>\n",
       "      <td>5378.53</td>\n",
       "      <td>5319.78</td>\n",
       "      <td>1181.146484</td>\n",
       "      <td>NaN</td>\n",
       "      <td>1038.342296</td>\n",
       "      <td>2.298252</td>\n",
       "      <td>5.823964</td>\n",
       "    </tr>\n",
       "    <tr>\n",
       "      <th>taxa de serviço</th>\n",
       "      <td>NaN</td>\n",
       "      <td>NaN</td>\n",
       "      <td>158.40</td>\n",
       "      <td>38.238235</td>\n",
       "      <td>NaN</td>\n",
       "      <td>32.273664</td>\n",
       "      <td>2.338761</td>\n",
       "      <td>5.775075</td>\n",
       "    </tr>\n",
       "    <tr>\n",
       "      <th>taxa de pagamento rápido</th>\n",
       "      <td>NaN</td>\n",
       "      <td>NaN</td>\n",
       "      <td>NaN</td>\n",
       "      <td>NaN</td>\n",
       "      <td>NaN</td>\n",
       "      <td>NaN</td>\n",
       "      <td>NaN</td>\n",
       "      <td>NaN</td>\n",
       "    </tr>\n",
       "    <tr>\n",
       "      <th>taxa de limpeza</th>\n",
       "      <td>NaN</td>\n",
       "      <td>NaN</td>\n",
       "      <td>170.00</td>\n",
       "      <td>129.882353</td>\n",
       "      <td>NaN</td>\n",
       "      <td>47.932311</td>\n",
       "      <td>-1.897899</td>\n",
       "      <td>2.375340</td>\n",
       "    </tr>\n",
       "    <tr>\n",
       "      <th>ganhos brutos</th>\n",
       "      <td>NaN</td>\n",
       "      <td>NaN</td>\n",
       "      <td>5845.03</td>\n",
       "      <td>1190.694409</td>\n",
       "      <td>NaN</td>\n",
       "      <td>1074.677971</td>\n",
       "      <td>2.258522</td>\n",
       "      <td>5.775872</td>\n",
       "    </tr>\n",
       "    <tr>\n",
       "      <th>impostos de ocupação</th>\n",
       "      <td>NaN</td>\n",
       "      <td>NaN</td>\n",
       "      <td>0.00</td>\n",
       "      <td>0.000000</td>\n",
       "      <td>NaN</td>\n",
       "      <td>0.000000</td>\n",
       "      <td>0.000000</td>\n",
       "      <td>0.000000</td>\n",
       "    </tr>\n",
       "  </tbody>\n",
       "</table>\n",
       "</div>"
      ],
      "text/plain": [
       "                            min      max    range         mean  median          std      skew   kurtosis\n",
       "noites                      NaN      NaN    87.00     9.477778     NaN    16.563835  3.889962  15.906845\n",
       "valor                       NaN      NaN  5678.53  1155.745484     NaN  1042.532227  2.255769   5.764158\n",
       "pago                      58.75  5378.53  5319.78  1181.146484     NaN  1038.342296  2.298252   5.823964\n",
       "taxa de serviço             NaN      NaN   158.40    38.238235     NaN    32.273664  2.338761   5.775075\n",
       "taxa de pagamento rápido    NaN      NaN      NaN          NaN     NaN          NaN       NaN        NaN\n",
       "taxa de limpeza             NaN      NaN   170.00   129.882353     NaN    47.932311 -1.897899   2.375340\n",
       "ganhos brutos               NaN      NaN  5845.03  1190.694409     NaN  1074.677971  2.258522   5.775872\n",
       "impostos de ocupação        NaN      NaN     0.00     0.000000     NaN     0.000000  0.000000   0.000000"
      ]
     },
     "execution_count": 19,
     "metadata": {},
     "output_type": "execute_result"
    }
   ],
   "source": [
    "#descriptive_statistics(df1_num)\n"
   ]
  },
  {
   "cell_type": "code",
   "execution_count": 20,
   "id": "b413178c-c7ef-4e39-b21e-3585b0cf257b",
   "metadata": {},
   "outputs": [
    {
     "data": {
      "image/png": "[encoded data removed]",
      "text/plain": [
       "<Figure size 2500x1200 with 1 Axes>"
      ]
     },
     "metadata": {},
     "output_type": "display_data"
    }
   ],
   "source": [
    "#Distribuição das diarias\n",
    "sns.distplot(df1[\"noites\"]);\n"
   ]
  },
  {
   "cell_type": "markdown",
   "id": "40bab55e-3067-4dce-893c-883825c2d3d0",
   "metadata": {},
   "source": [
    "### **1.7.2 Categorical Attributes**"
   ]
  },
  {
   "cell_type": "code",
   "execution_count": null,
   "id": "031804d0-3bb1-4621-a552-4172b9d7e7e7",
   "metadata": {},
   "outputs": [],
   "source": [
    "#não aplica"
   ]
  },
  {
   "cell_type": "markdown",
   "id": "eb71c22c-66a9-4d94-8862-36fb88580024",
   "metadata": {},
   "source": [
    "# **2.0 Feature Engineering**"
   ]
  },
  {
   "cell_type": "code",
   "execution_count": 43,
   "id": "39757a38-02fa-45df-a6dd-406e0fd77c4c",
   "metadata": {},
   "outputs": [],
   "source": [
    "df2 = df1.copy()"
   ]
  },
  {
   "cell_type": "markdown",
   "id": "97674663-d5f3-4a89-a40d-f353480de9ee",
   "metadata": {},
   "source": [
    "## **2.1 Mind Map Hypotesis**"
   ]
  },
  {
   "cell_type": "code",
   "execution_count": null,
   "id": "f344bba3-0c38-42be-961a-4455a55520d2",
   "metadata": {},
   "outputs": [],
   "source": []
  },
  {
   "cell_type": "markdown",
   "id": "593918ca-10d2-4442-8499-fb3c641dd535",
   "metadata": {},
   "source": [
    "## **2.2 Hypotesis**"
   ]
  },
  {
   "cell_type": "markdown",
   "id": "c006362c-efea-4462-8a6d-e3901cb0422a",
   "metadata": {},
   "source": [
    "### **2.2.1 Hipóteses Padrões de Reserva**"
   ]
  },
  {
   "cell_type": "markdown",
   "id": "4676355c-0ee3-440c-ae11-e38aa59e336c",
   "metadata": {},
   "source": [
    "1. Existe um aumento no número de reservas em meses específicos do ano (alta temporada)?\n",
    "2. A maioria das reservas é feita com quantos dias de antecedência?\n",
    "3. Datas como feriados nacionais ou eventos internacionais costumam estar reservadas?\n",
    "4. Qual é a porcentagem de reservas com menos de 3 noites em relação às que excedem 7 noites?\n",
    "5. Reservas podem ser agrupadas em segmentos de valor (baixo, médio, alto), e esses grupos apresentam comportamentos distintos?\n",
    "6. Tem meses com tendência a ter mais reservas?"
   ]
  },
  {
   "cell_type": "markdown",
   "id": "cafd0c09-d5a1-4a66-8838-bbd8efcb0d2a",
   "metadata": {},
   "source": [
    "### **2.2.2 Hipóteses Valor e Preço**"
   ]
  },
  {
   "cell_type": "markdown",
   "id": "3d7d1594-c752-4c15-b78d-82c247300293",
   "metadata": {},
   "source": [
    "1. Estadas mais longas têm um valor médio por noite mais baixo?\n",
    "2. Existe uma variação clara de preços dependendo do mês?\n",
    "3. Reservas realizadas durante feriados ou eventos locais apresentam um aumento significativo no valor médio por noite?\n",
    "4. Qual a porcentagem do valor médio por noite para hóspedagens em grupos em relação a hospedagens individuais?\n",
    "5. Preços ajustados com base na demanda de hóspedes, resultam em maior receita mensal?\n",
    "6. Qual o valor padrão das reservas? E quais os valores dispcrepantes?"
   ]
  },
  {
   "cell_type": "markdown",
   "id": "d2c8698a-25b3-4ee1-b19e-e59e263b62c7",
   "metadata": {},
   "source": [
    "### **2.2.3 Hipóteses Perfil do Hóspede**"
   ]
  },
  {
   "cell_type": "markdown",
   "id": "3d8feb0e-7c13-4c74-8d0a-b3192ebfc6c8",
   "metadata": {},
   "source": [
    "1. Se disponível, hóspedes de determinadas regiões tendem a fazer reservas de maior valor?\n",
    "2. A distribuição percentual de hóspedes por região segue padrões consistentes ao longo do tempo, com certas localidades dominando a maior parte das reservas?"
   ]
  },
  {
   "cell_type": "markdown",
   "id": "22b56329-661d-4a2b-ab36-bfd764bbfb8a",
   "metadata": {},
   "source": [
    "### **2.2.4 Hipóteses Desempenho Financeiro**"
   ]
  },
  {
   "cell_type": "markdown",
   "id": "1b9329a3-36ec-4ca6-9ba6-7e20b5b049e9",
   "metadata": {},
   "source": [
    "1. Existem variações significativas de ganho mensal, e como elas se relacionam com o número de reservas?\n",
    "2. Qual é o impacto das taxas de serviço e impostos na receita líquida por reserva?\n",
    "3. O custo médio da taxa de limpeza impacta mais negativamente reservas de curta duração?\n",
    "4. Quais meses oferecem maior margem de lucro considerando receitas e custos?\n",
    "5. Reservas feitas com preços ajustados dinamicamente aumentam a margem de lucro?\n",
    "6. A receita total cresce consistentemente mês a mês ou ano a ano?\n",
    "7. Qual é o ROI de melhorias realizadas no imóvel ou de investimentos em marketing?"
   ]
  },
  {
   "cell_type": "markdown",
   "id": "bd5a8747-38e1-48fa-944a-6c64bb418704",
   "metadata": {},
   "source": [
    "## **2.3 Hypotheses Final List**"
   ]
  },
  {
   "cell_type": "code",
   "execution_count": null,
   "id": "3947d230-3e6d-47d2-8574-654a5cadf7b0",
   "metadata": {},
   "outputs": [],
   "source": []
  },
  {
   "cell_type": "markdown",
   "id": "049d6e8e-1a15-48a9-a57b-e1c3381dbea0",
   "metadata": {},
   "source": [
    "## **2.4 Feature Engineering**"
   ]
  },
  {
   "cell_type": "code",
   "execution_count": 44,
   "id": "337f9265-b7a9-4f8e-91b1-3ea88706d263",
   "metadata": {},
   "outputs": [],
   "source": [
    "# Variáveis a ser derivadas da variavel original Date \n",
    "# year \n",
    "df2[\"ano\"] = df2[\"data\"].dt.year\n",
    "\n",
    "#df2[\"ganhos do ano\"] = df2[\"ganhos do ano\"].dt.year\n",
    "\n",
    "\n",
    "# month\n",
    "df2[\"mes\"] = df2[\"data\"].dt.month\n",
    "\n",
    "# day\n",
    "df2[\"dia\"] = df2[\"data\"].dt.day\n",
    "\n",
    "# week of year\n",
    "df2[\"semana_do_ano\"] = df2[\"data\"].dt.isocalendar().week\n",
    "\n",
    "# year week (%Y ano, %W semana)\n",
    "df2[\"ano_semana\"] = df2[\"data\"].dt.strftime(\"%Y-%W\")"
   ]
  },
  {
   "cell_type": "code",
   "execution_count": 45,
   "id": "6c60f76b-94a5-4c30-aba6-c2f3c69aa0a3",
   "metadata": {},
   "outputs": [],
   "source": [
    "df2 = df2.drop(columns=['anúncio', 'taxa de serviço', 'código de referência', 'detalhes', 'ganhos do ano'])"
   ]
  },
  {
   "cell_type": "code",
   "execution_count": 46,
   "id": "5ec73889-7b00-4d75-b16c-e9592fb251c7",
   "metadata": {},
   "outputs": [],
   "source": [
    "# Reorganiza as colunas para que 'ano' e 'mes' fiquem ao lado de 'data'\n",
    "colunas = ['data', 'ano', 'mes', 'dia', 'semana_do_ano', 'ano_semana'] + [col for col in df2.columns if col not in ['data', 'ano', 'mes', 'dia', 'semana_do_ano', 'ano_semana']]\n",
    "df2 = df2[colunas]"
   ]
  },
  {
   "cell_type": "code",
   "execution_count": 47,
   "id": "131a561f-8b64-4b3e-bc9b-88573272f253",
   "metadata": {},
   "outputs": [],
   "source": [
    "#nova coluna Valor liquido\n",
    "\n",
    "# Calcular o valor líquido apenas para linhas onde o tipo é \"Reserva\"\n",
    "df2.loc[df2['tipo'] == 'Reserva', 'valor_liquido'] = df2['valor'] - df2['taxa de limpeza']\n",
    "\n",
    "#Calcular o valor da diária apenas para linhas onde o tipo é \"Reserva\"\n",
    "df2.loc[df2['tipo'] == 'Reserva', 'valor_diaria'] = df2['valor_liquido'] / df2['noites']"
   ]
  },
  {
   "cell_type": "code",
   "execution_count": 53,
   "id": "31510352-99f7-4f21-8bd2-28648a6439d7",
   "metadata": {},
   "outputs": [],
   "source": [
    "df2['valor_diaria'] = df2['valor_diaria'].round(2)\n"
   ]
  },
  {
   "cell_type": "code",
   "execution_count": 85,
   "id": "d80755a3-5a66-437c-bb31-c565b159d065",
   "metadata": {},
   "outputs": [],
   "source": [
    "df2[df2['ano'] == 2024].head(10)"
   ]
  },
  {
   "cell_type": "markdown",
   "id": "4800248b-8c50-46e4-ac39-e238210f6291",
   "metadata": {},
   "source": [
    "### **Compreendendo Algumas Possibilidades**"
   ]
  },
  {
   "cell_type": "code",
   "execution_count": 87,
   "id": "7246740d-47c1-4b80-a92e-53759ad73b44",
   "metadata": {},
   "outputs": [
    {
     "name": "stdout",
     "output_type": "stream",
     "text": [
      "[3286.69 3521.45 3638.83 1124.16  261.66  792.    484.55  531.22 1541.47\n",
      "  513.63 1705.62 1525.37  693.88  868.32  870.26 2679.57  703.57  958.44\n",
      "  711.32 2336.51  752.02  664.81 5331.02   85.01 2559.38 2753.22  947.78\n",
      " 1451.72  726.83  649.3   629.92  872.19  508.78  590.18  494.24 1819.98\n",
      "  558.2  1211.38  687.09 1521.49  833.43  920.65  564.99   96.36  648.33\n",
      "  971.04  537.85 1569.95  523.32  571.77  180.02  930.34  997.21  941.97\n",
      "   58.75  476.    288.09 1393.57 1502.11  719.97  424.47  854.75  540.76\n",
      " 1584.33  647.36 1726.31 1805.18  632.35  301.   4742.61 5378.53 1112.66\n",
      " 2940.26 1240.45  608.6  1541.84 1444.06 1402.29 1360.62  684.19  529.13\n",
      "  661.9   385.7  1383.59 1103.23  511.69  505.87  705.5 ]\n"
     ]
    }
   ],
   "source": [
    "valores_unicos = df2['pago'].dropna().unique()\n",
    "print(valores_unicos)\n"
   ]
  },
  {
   "cell_type": "code",
   "execution_count": 88,
   "id": "343bf275-44c8-495b-baa4-e6f29a955b95",
   "metadata": {},
   "outputs": [
    {
     "data": {
      "text/plain": [
       "1181.1464835164836"
      ]
     },
     "execution_count": 88,
     "metadata": {},
     "output_type": "execute_result"
    }
   ],
   "source": [
    "df2['pago'].mean()"
   ]
  },
  {
   "cell_type": "code",
   "execution_count": 89,
   "id": "012d5d62-e373-4186-a1a0-bb4aeb5a8683",
   "metadata": {},
   "outputs": [
    {
     "name": "stdout",
     "output_type": "stream",
     "text": [
      "Frequência de Ocorrências por Número de Noites:\n",
      "2 noites: 22 ocorrência(s)\n",
      "3 noites: 17 ocorrência(s)\n",
      "4 noites: 11 ocorrência(s)\n",
      "5 noites: 6 ocorrência(s)\n",
      "6 noites: 6 ocorrência(s)\n",
      "7 noites: 5 ocorrência(s)\n",
      "8 noites: 2 ocorrência(s)\n",
      "9 noites: 3 ocorrência(s)\n",
      "10 noites: 2 ocorrência(s)\n",
      "11 noites: 2 ocorrência(s)\n",
      "12 noites: 2 ocorrência(s)\n",
      "13 noites: 1 ocorrência(s)\n",
      "14 noites: 1 ocorrência(s)\n",
      "17 noites: 1 ocorrência(s)\n",
      "29 noites: 1 ocorrência(s)\n",
      "31 noites: 2 ocorrência(s)\n",
      "34 noites: 3 ocorrência(s)\n",
      "89 noites: 3 ocorrência(s)\n"
     ]
    }
   ],
   "source": [
    "# Contar frequências de cada número\n",
    "ranking = df2['noites'].value_counts().sort_index()\n",
    "\n",
    "# Exibir o ranking como inteiros\n",
    "print(\"Frequência de Ocorrências por Número de Noites:\")\n",
    "for numero, frequencia in ranking.items():\n",
    "    print(f\"{int(numero)} noites: {int(frequencia)} ocorrência(s)\")"
   ]
  },
  {
   "cell_type": "code",
   "execution_count": 90,
   "id": "b8daa4ac-6c08-4f9c-9b72-15d629d025b9",
   "metadata": {},
   "outputs": [
    {
     "name": "stdout",
     "output_type": "stream",
     "text": [
      "Receita mensal somada por mês em 2023:\n",
      "     ano  mes     pago\n",
      "0   2023    1  2845.06\n",
      "1   2023    2   537.85\n",
      "2   2023    3  2280.72\n",
      "3   2023    4  4520.86\n",
      "4   2023    5  3589.56\n",
      "5   2023    6  3095.31\n",
      "6   2023    7  2323.91\n",
      "7   2023    8  7712.10\n",
      "8   2023    9  5416.03\n",
      "9   2023   10  3753.34\n",
      "10  2023   11  5052.90\n",
      "11  2023   12  6177.08\n",
      "\n",
      "Média da receita mensal em 2023: 3942.060000000001\n"
     ]
    }
   ],
   "source": [
    "# Filtra as linhas onde o ano é 2023\n",
    "df_2023 = df2[df2['ano'] == 2023]\n",
    "\n",
    "# Soma o valor da coluna 'pago' para cada mês em 2023\n",
    "receita_mensal_2023 = df_2023.groupby(['ano', 'mes'])['pago'].sum().reset_index()\n",
    "\n",
    "# Ordena o DataFrame por mês\n",
    "receita_mensal_2023 = receita_mensal_2023.sort_values(by='mes').reset_index(drop=True)\n",
    "\n",
    "# Calcula a média das receitas mensais em 2023\n",
    "media_receita_mensal_2023 = receita_mensal_2023['pago'].mean()\n",
    "\n",
    "print(\"Receita mensal somada por mês em 2023:\")\n",
    "print(receita_mensal_2023)\n",
    "print(\"\\nMédia da receita mensal em 2023:\", media_receita_mensal_2023)\n"
   ]
  },
  {
   "cell_type": "code",
   "execution_count": 91,
   "id": "d605a907-daeb-47a3-8635-0e495d1aed1b",
   "metadata": {},
   "outputs": [
    {
     "name": "stdout",
     "output_type": "stream",
     "text": [
      "Receita mensal somada por mês em 2024:\n",
      "     ano  mes     pago\n",
      "0   2024    1  1211.37\n",
      "1   2024    2  2998.51\n",
      "2   2024    3  4551.88\n",
      "3   2024    4  6237.24\n",
      "4   2024    5  9431.45\n",
      "5   2024    6  5043.61\n",
      "6   2024    7   632.35\n",
      "7   2024    8  3531.49\n",
      "8   2024    9  4051.67\n",
      "9   2024   10  4438.49\n",
      "10  2024   11  2869.52\n",
      "\n",
      "Média da receita mensal em 2024: 4090.6890909090903\n"
     ]
    }
   ],
   "source": [
    "# Filtra as linhas onde o ano é 2024\n",
    "df_2024 = df2[df2['ano'] == 2024]\n",
    "\n",
    "# Soma o valor da coluna 'pago' para cada mês em 20234\n",
    "receita_mensal_2024 = df_2024.groupby(['ano', 'mes'])['pago'].sum().reset_index()\n",
    "\n",
    "# Ordena o DataFrame por mês\n",
    "receita_mensal_2024 = receita_mensal_2024.sort_values(by='mes').reset_index(drop=True)\n",
    "\n",
    "# média das receitas mensais em 2024\n",
    "media_receita_mensal_2024 = receita_mensal_2024['pago'].mean()\n",
    "\n",
    "print(\"Receita mensal somada por mês em 2024:\")\n",
    "print(receita_mensal_2024)\n",
    "print(\"\\nMédia da receita mensal em 2024:\", media_receita_mensal_2024)\n"
   ]
  },
  {
   "cell_type": "code",
   "execution_count": 92,
   "id": "5c646cc5-4c26-4386-8b83-a19a921120af",
   "metadata": {},
   "outputs": [
    {
     "data": {
      "image/png": "[encoded data removed]",
      "text/plain": [
       "<Figure size 1200x600 with 1 Axes>"
      ]
     },
     "metadata": {},
     "output_type": "display_data"
    }
   ],
   "source": [
    "receita_ano_mes = df2.groupby(['ano', 'mes'])['pago'].sum().reset_index()\n",
    "\n",
    "plt.figure(figsize=(12, 6))\n",
    "ax = sns.barplot(data=receita_ano_mes, x='mes', y='pago', hue='ano', palette='viridis')\n",
    "\n",
    "for p in ax.patches:\n",
    "    ax.annotate(f'{p.get_height():,.2f}', \n",
    "                (p.get_x() + p.get_width() / 2., p.get_height()), \n",
    "                ha='center', va='center', \n",
    "                fontsize=7, color='black', \n",
    "                xytext=(0, 10), textcoords='offset points',\n",
    "               rotation=45)\n",
    "\n",
    "plt.title('Receitas Mensais Agrupadas por Ano', fontsize=16)\n",
    "plt.xlabel('Mês', fontsize=12)\n",
    "plt.ylabel('Receita Mensal (R$)', fontsize=12)\n",
    "plt.legend(title='Ano', fontsize=10)\n",
    "plt.xticks(fontsize=10)\n",
    "plt.yticks(fontsize=10)\n",
    "\n",
    "plt.show()\n"
   ]
  },
  {
   "cell_type": "code",
   "execution_count": 93,
   "id": "d5138728-308a-4675-b457-90b8048cd4e8",
   "metadata": {},
   "outputs": [
    {
     "name": "stdout",
     "output_type": "stream",
     "text": [
      "Empty DataFrame\n",
      "Columns: [código de confirmação, valor, pago, diferente]\n",
      "Index: []\n"
     ]
    }
   ],
   "source": [
    "#teve valor na coluna pago referente a coluna tipo ao atributo Payout diferente valor da coluna valor na coluna tipo atributo reserva?\n",
    "\n",
    "df_payout = df2[df2['tipo'] == 'Payout']\n",
    "df_reserva = df2[df2['tipo'] == 'Reserva']\n",
    "\n",
    "df_comparado = pd.merge(df_reserva[['código de confirmação', 'valor']], \n",
    "                        df_payout[['código de confirmação', 'pago']], \n",
    "                        on='código de confirmação', \n",
    "                        how='inner')\n",
    "\n",
    "df_comparado['diferente'] = df_comparado['valor'] != df_comparado['pago']\n",
    "\n",
    "linhas_diferentes = df_comparado[df_comparado['diferente']]\n",
    "\n",
    "print(linhas_diferentes)\n"
   ]
  },
  {
   "cell_type": "code",
   "execution_count": 84,
   "id": "7cdde98b-33cc-4aba-a2a7-2d7c940281ab",
   "metadata": {},
   "outputs": [
    {
     "data": {
      "text/plain": [
       "Index(['data', 'ano', 'mes', 'dia', 'semana_do_ano', 'ano_semana',\n",
       "       'disponível por data', 'tipo', 'código de confirmação',\n",
       "       'data da reserva', 'data de início', 'data de término', 'noites',\n",
       "       'hóspede', 'moeda', 'valor', 'pago', 'taxa de pagamento rápido',\n",
       "       'taxa de limpeza', 'ganhos brutos', 'impostos de ocupação',\n",
       "       'valor_liquido', 'valor_diaria'],\n",
       "      dtype='object')"
      ]
     },
     "execution_count": 84,
     "metadata": {},
     "output_type": "execute_result"
    }
   ],
   "source": [
    "df2.columns"
   ]
  },
  {
   "cell_type": "markdown",
   "id": "6094e700-aa06-4476-893d-aba7779e42ad",
   "metadata": {},
   "source": [
    "# **3.0 DATA FILTERING**"
   ]
  },
  {
   "cell_type": "code",
   "execution_count": null,
   "id": "4582cb39-ddb7-474e-82aa-e74362aa265e",
   "metadata": {},
   "outputs": [],
   "source": [
    "df3 = df2.copy()"
   ]
  },
  {
   "cell_type": "markdown",
   "id": "676f9d15-82b6-4102-baf4-2946594bea0e",
   "metadata": {},
   "source": [
    "## **3.1 Row filtering**"
   ]
  },
  {
   "cell_type": "markdown",
   "id": "174c85b1-fc00-4e10-a4ac-043ce87e4174",
   "metadata": {},
   "source": [
    "## **3.2 Column selection**"
   ]
  },
  {
   "cell_type": "markdown",
   "id": "389480a9-e254-4d41-8e69-c53bb107cc3c",
   "metadata": {},
   "source": [
    "# **4.0 EDA**"
   ]
  },
  {
   "cell_type": "markdown",
   "id": "58a1100f-a6ee-4e7c-a7bb-9c618ea8e326",
   "metadata": {},
   "source": [
    "## **4.1 Analise Univariada**"
   ]
  },
  {
   "cell_type": "markdown",
   "id": "8953bd08-ea2f-4555-928b-c144623940f1",
   "metadata": {},
   "source": [
    "### **4.1.2 Numerical variable**"
   ]
  },
  {
   "cell_type": "markdown",
   "id": "12899d05-c48e-49f1-bf41-256ac0bf6288",
   "metadata": {},
   "source": [
    "### **4.1.2 Numerical variable**"
   ]
  },
  {
   "cell_type": "markdown",
   "id": "d107aeff-49ba-44df-b552-a2c2b9cf1478",
   "metadata": {},
   "source": [
    "## **4.2 Analise Bivariada**"
   ]
  },
  {
   "cell_type": "markdown",
   "id": "187ad278-c80b-4fa7-8c16-75dbf50a5a6d",
   "metadata": {},
   "source": [
    "H1-"
   ]
  },
  {
   "cell_type": "markdown",
   "id": "1525a1f8-b96f-4f27-ab27-4642ad4f3311",
   "metadata": {},
   "source": [
    "## **4.3 Analise Multivariada**"
   ]
  },
  {
   "cell_type": "markdown",
   "id": "89f71413-8dee-414e-a2d0-345b9c1a6db6",
   "metadata": {},
   "source": [
    "### **4.3.1 Numerical Attributes**"
   ]
  },
  {
   "cell_type": "markdown",
   "id": "f26edd82-9697-428d-8efd-77ad02eb83c5",
   "metadata": {},
   "source": [
    "### **4.3.2 Categorical Attributes**"
   ]
  },
  {
   "cell_type": "code",
   "execution_count": null,
   "id": "5bf1ee53-48fc-4288-9fd8-5411ba74bbf4",
   "metadata": {},
   "outputs": [],
   "source": []
  },
  {
   "cell_type": "code",
   "execution_count": null,
   "id": "f109fc80-9a0a-4a98-bee4-221111a76028",
   "metadata": {},
   "outputs": [],
   "source": []
  }
 ],
 "metadata": {
  "kernelspec": {
   "display_name": "python(airbnb3)",
   "language": "python",
   "name": "airbnb3"
  },
  "language_info": {
   "codemirror_mode": {
    "name": "ipython",
    "version": 3
   },
   "file_extension": ".py",
   "mimetype": "text/x-python",
   "name": "python",
   "nbconvert_exporter": "python",
   "pygments_lexer": "ipython3",
   "version": "3.10.13"
  }
 },
 "nbformat": 4,
 "nbformat_minor": 5
}
